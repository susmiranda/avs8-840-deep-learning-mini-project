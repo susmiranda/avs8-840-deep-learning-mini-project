{
 "cells": [
  {
   "cell_type": "code",
   "execution_count": 35,
   "metadata": {},
   "outputs": [],
   "source": [
    "import wandb\n",
    "from matplotlib import pyplot as plt\n",
    "import numpy as np\n",
    "import pandas as pd"
   ]
  },
  {
   "cell_type": "code",
   "execution_count": 36,
   "metadata": {},
   "outputs": [
    {
     "data": {
      "text/html": [
       "Tracking run with wandb version 0.16.4"
      ],
      "text/plain": [
       "<IPython.core.display.HTML object>"
      ]
     },
     "metadata": {},
     "output_type": "display_data"
    },
    {
     "data": {
      "text/html": [
       "Run data is saved locally in <code>/home/mdalal/Documents/AVS8-Files/Deep Learning/avs8-840-deep-learning-mini-project/wandb/run-20240313_155514-4mps0szm</code>"
      ],
      "text/plain": [
       "<IPython.core.display.HTML object>"
      ]
     },
     "metadata": {},
     "output_type": "display_data"
    },
    {
     "data": {
      "text/html": [
       "Syncing run <strong><a href='https://wandb.ai/ce8-840/test_2/runs/4mps0szm' target=\"_blank\">test_exploration2</a></strong> to <a href='https://wandb.ai/ce8-840/test_2' target=\"_blank\">Weights & Biases</a> (<a href='https://wandb.me/run' target=\"_blank\">docs</a>)<br/>"
      ],
      "text/plain": [
       "<IPython.core.display.HTML object>"
      ]
     },
     "metadata": {},
     "output_type": "display_data"
    },
    {
     "data": {
      "text/html": [
       " View project at <a href='https://wandb.ai/ce8-840/test_2' target=\"_blank\">https://wandb.ai/ce8-840/test_2</a>"
      ],
      "text/plain": [
       "<IPython.core.display.HTML object>"
      ]
     },
     "metadata": {},
     "output_type": "display_data"
    },
    {
     "data": {
      "text/html": [
       " View run at <a href='https://wandb.ai/ce8-840/test_2/runs/4mps0szm' target=\"_blank\">https://wandb.ai/ce8-840/test_2/runs/4mps0szm</a>"
      ],
      "text/plain": [
       "<IPython.core.display.HTML object>"
      ]
     },
     "metadata": {},
     "output_type": "display_data"
    },
    {
     "data": {
      "text/html": [
       "<button onClick=\"this.nextSibling.style.display='block';this.style.display='none';\">Display W&B run</button><iframe src='https://wandb.ai/ce8-840/test_2/runs/4mps0szm?jupyter=true' style='border:none;width:100%;height:420px;display:none;'></iframe>"
      ],
      "text/plain": [
       "<wandb.sdk.wandb_run.Run at 0x77b5dc150fd0>"
      ]
     },
     "execution_count": 36,
     "metadata": {},
     "output_type": "execute_result"
    }
   ],
   "source": [
    "wandb.login() # This should work automatically after the first time. For the first time you will need an API key.\n",
    "'''\n",
    "Initiating a run:\n",
    "project: The name of the project. Needs to be common between group members.\n",
    "entity: The name of the group. ce8-840\n",
    "name: The name of the run. Should be a good descriptor of the contents.\n",
    "'''\n",
    "#wandb.init(project=\"avs8-840-deep-learning-mini-project\", entity='ce8-840', name='test_exploration')\n",
    "wandb.init(project=\"test_2\", entity='ce8-840', name='test_exploration2')"
   ]
  },
  {
   "cell_type": "code",
   "execution_count": 37,
   "metadata": {},
   "outputs": [
    {
     "data": {
      "image/png": "[encoded data removed]",
      "text/plain": [
       "<Figure size 500x500 with 1 Axes>"
      ]
     },
     "metadata": {},
     "output_type": "display_data"
    }
   ],
   "source": [
    "# Logging a figure\n",
    "fig = plt.figure(figsize=(5,5))\n",
    "plt.plot(np.linspace(1,15), np.linspace(1,15))\n",
    "plt.show()\n",
    "wandb.log({'Image_name' : wandb.Image(fig)})\n",
    "\n",
    "# Logging parameters as a dictionary\n",
    "wandb.log({'Key': 'Value'})"
   ]
  },
  {
   "cell_type": "code",
   "execution_count": 38,
   "metadata": {},
   "outputs": [],
   "source": [
    "DF = pd.read_csv(\"dataset/metadata_compiled.csv\")"
   ]
  },
  {
   "cell_type": "code",
   "execution_count": 39,
   "metadata": {},
   "outputs": [],
   "source": [
    "DF2 = DF[\"status\"].value_counts()\n",
    "#wandb.run.log({\"Status_class_dist\": wandb.Image(saveDir)})\n",
    "data = [[label, val] for (label, val) in zip(DF2.keys(), DF2.values)]\n",
    "table = wandb.Table(data=data, columns = [\"Class\", \"#Samples\"])\n",
    "wandb.log({\"Status_class_dict_table\": table})\n",
    "wandb.log({\"Status_class_dist_plot\" : wandb.plot.bar(table, \"Class\", \"#Samples\",\n",
    "                            title=\"Class distribution of status label\")})"
   ]
  },
  {
   "cell_type": "code",
   "execution_count": 40,
   "metadata": {},
   "outputs": [
    {
     "data": {
      "text/html": [
       "<div>\n",
       "<style scoped>\n",
       "    .dataframe tbody tr th:only-of-type {\n",
       "        vertical-align: middle;\n",
       "    }\n",
       "\n",
       "    .dataframe tbody tr th {\n",
       "        vertical-align: top;\n",
       "    }\n",
       "\n",
       "    .dataframe thead th {\n",
       "        text-align: right;\n",
       "    }\n",
       "</style>\n",
       "<table border=\"1\" class=\"dataframe\">\n",
       "  <thead>\n",
       "    <tr style=\"text-align: right;\">\n",
       "      <th></th>\n",
       "      <th>Labels</th>\n",
       "      <th>#Samples</th>\n",
       "    </tr>\n",
       "  </thead>\n",
       "  <tbody>\n",
       "    <tr>\n",
       "      <th>0</th>\n",
       "      <td>uuid</td>\n",
       "      <td>27550</td>\n",
       "    </tr>\n",
       "    <tr>\n",
       "      <th>1</th>\n",
       "      <td>datetime</td>\n",
       "      <td>27550</td>\n",
       "    </tr>\n",
       "    <tr>\n",
       "      <th>2</th>\n",
       "      <td>cough_detected</td>\n",
       "      <td>27550</td>\n",
       "    </tr>\n",
       "    <tr>\n",
       "      <th>3</th>\n",
       "      <td>SNR</td>\n",
       "      <td>27550</td>\n",
       "    </tr>\n",
       "    <tr>\n",
       "      <th>4</th>\n",
       "      <td>latitude</td>\n",
       "      <td>16084</td>\n",
       "    </tr>\n",
       "    <tr>\n",
       "      <th>5</th>\n",
       "      <td>longitude</td>\n",
       "      <td>16084</td>\n",
       "    </tr>\n",
       "    <tr>\n",
       "      <th>6</th>\n",
       "      <td>age</td>\n",
       "      <td>15218</td>\n",
       "    </tr>\n",
       "    <tr>\n",
       "      <th>7</th>\n",
       "      <td>gender</td>\n",
       "      <td>16224</td>\n",
       "    </tr>\n",
       "    <tr>\n",
       "      <th>8</th>\n",
       "      <td>respiratory_condition</td>\n",
       "      <td>16224</td>\n",
       "    </tr>\n",
       "    <tr>\n",
       "      <th>9</th>\n",
       "      <td>fever_muscle_pain</td>\n",
       "      <td>16224</td>\n",
       "    </tr>\n",
       "    <tr>\n",
       "      <th>10</th>\n",
       "      <td>status</td>\n",
       "      <td>16224</td>\n",
       "    </tr>\n",
       "    <tr>\n",
       "      <th>11</th>\n",
       "      <td>quality_1</td>\n",
       "      <td>820</td>\n",
       "    </tr>\n",
       "    <tr>\n",
       "      <th>12</th>\n",
       "      <td>cough_type_1</td>\n",
       "      <td>802</td>\n",
       "    </tr>\n",
       "    <tr>\n",
       "      <th>13</th>\n",
       "      <td>dyspnea_1</td>\n",
       "      <td>820</td>\n",
       "    </tr>\n",
       "    <tr>\n",
       "      <th>14</th>\n",
       "      <td>wheezing_1</td>\n",
       "      <td>820</td>\n",
       "    </tr>\n",
       "    <tr>\n",
       "      <th>15</th>\n",
       "      <td>stridor_1</td>\n",
       "      <td>820</td>\n",
       "    </tr>\n",
       "    <tr>\n",
       "      <th>16</th>\n",
       "      <td>choking_1</td>\n",
       "      <td>820</td>\n",
       "    </tr>\n",
       "    <tr>\n",
       "      <th>17</th>\n",
       "      <td>congestion_1</td>\n",
       "      <td>820</td>\n",
       "    </tr>\n",
       "    <tr>\n",
       "      <th>18</th>\n",
       "      <td>nothing_1</td>\n",
       "      <td>820</td>\n",
       "    </tr>\n",
       "    <tr>\n",
       "      <th>19</th>\n",
       "      <td>diagnosis_1</td>\n",
       "      <td>802</td>\n",
       "    </tr>\n",
       "    <tr>\n",
       "      <th>20</th>\n",
       "      <td>severity_1</td>\n",
       "      <td>802</td>\n",
       "    </tr>\n",
       "    <tr>\n",
       "      <th>21</th>\n",
       "      <td>quality_2</td>\n",
       "      <td>820</td>\n",
       "    </tr>\n",
       "    <tr>\n",
       "      <th>22</th>\n",
       "      <td>cough_type_2</td>\n",
       "      <td>801</td>\n",
       "    </tr>\n",
       "    <tr>\n",
       "      <th>23</th>\n",
       "      <td>dyspnea_2</td>\n",
       "      <td>820</td>\n",
       "    </tr>\n",
       "    <tr>\n",
       "      <th>24</th>\n",
       "      <td>wheezing_2</td>\n",
       "      <td>820</td>\n",
       "    </tr>\n",
       "    <tr>\n",
       "      <th>25</th>\n",
       "      <td>stridor_2</td>\n",
       "      <td>820</td>\n",
       "    </tr>\n",
       "    <tr>\n",
       "      <th>26</th>\n",
       "      <td>choking_2</td>\n",
       "      <td>820</td>\n",
       "    </tr>\n",
       "    <tr>\n",
       "      <th>27</th>\n",
       "      <td>congestion_2</td>\n",
       "      <td>820</td>\n",
       "    </tr>\n",
       "    <tr>\n",
       "      <th>28</th>\n",
       "      <td>nothing_2</td>\n",
       "      <td>820</td>\n",
       "    </tr>\n",
       "    <tr>\n",
       "      <th>29</th>\n",
       "      <td>diagnosis_2</td>\n",
       "      <td>802</td>\n",
       "    </tr>\n",
       "    <tr>\n",
       "      <th>30</th>\n",
       "      <td>severity_2</td>\n",
       "      <td>802</td>\n",
       "    </tr>\n",
       "    <tr>\n",
       "      <th>31</th>\n",
       "      <td>quality_3</td>\n",
       "      <td>820</td>\n",
       "    </tr>\n",
       "    <tr>\n",
       "      <th>32</th>\n",
       "      <td>cough_type_3</td>\n",
       "      <td>795</td>\n",
       "    </tr>\n",
       "    <tr>\n",
       "      <th>33</th>\n",
       "      <td>dyspnea_3</td>\n",
       "      <td>820</td>\n",
       "    </tr>\n",
       "    <tr>\n",
       "      <th>34</th>\n",
       "      <td>wheezing_3</td>\n",
       "      <td>820</td>\n",
       "    </tr>\n",
       "    <tr>\n",
       "      <th>35</th>\n",
       "      <td>stridor_3</td>\n",
       "      <td>820</td>\n",
       "    </tr>\n",
       "    <tr>\n",
       "      <th>36</th>\n",
       "      <td>choking_3</td>\n",
       "      <td>820</td>\n",
       "    </tr>\n",
       "    <tr>\n",
       "      <th>37</th>\n",
       "      <td>congestion_3</td>\n",
       "      <td>820</td>\n",
       "    </tr>\n",
       "    <tr>\n",
       "      <th>38</th>\n",
       "      <td>nothing_3</td>\n",
       "      <td>820</td>\n",
       "    </tr>\n",
       "    <tr>\n",
       "      <th>39</th>\n",
       "      <td>diagnosis_3</td>\n",
       "      <td>792</td>\n",
       "    </tr>\n",
       "    <tr>\n",
       "      <th>40</th>\n",
       "      <td>severity_3</td>\n",
       "      <td>795</td>\n",
       "    </tr>\n",
       "    <tr>\n",
       "      <th>41</th>\n",
       "      <td>quality_4</td>\n",
       "      <td>820</td>\n",
       "    </tr>\n",
       "    <tr>\n",
       "      <th>42</th>\n",
       "      <td>cough_type_4</td>\n",
       "      <td>801</td>\n",
       "    </tr>\n",
       "    <tr>\n",
       "      <th>43</th>\n",
       "      <td>dyspnea_4</td>\n",
       "      <td>820</td>\n",
       "    </tr>\n",
       "    <tr>\n",
       "      <th>44</th>\n",
       "      <td>wheezing_4</td>\n",
       "      <td>820</td>\n",
       "    </tr>\n",
       "    <tr>\n",
       "      <th>45</th>\n",
       "      <td>stridor_4</td>\n",
       "      <td>820</td>\n",
       "    </tr>\n",
       "    <tr>\n",
       "      <th>46</th>\n",
       "      <td>choking_4</td>\n",
       "      <td>820</td>\n",
       "    </tr>\n",
       "    <tr>\n",
       "      <th>47</th>\n",
       "      <td>congestion_4</td>\n",
       "      <td>820</td>\n",
       "    </tr>\n",
       "    <tr>\n",
       "      <th>48</th>\n",
       "      <td>nothing_4</td>\n",
       "      <td>820</td>\n",
       "    </tr>\n",
       "    <tr>\n",
       "      <th>49</th>\n",
       "      <td>diagnosis_4</td>\n",
       "      <td>789</td>\n",
       "    </tr>\n",
       "    <tr>\n",
       "      <th>50</th>\n",
       "      <td>severity_4</td>\n",
       "      <td>799</td>\n",
       "    </tr>\n",
       "  </tbody>\n",
       "</table>\n",
       "</div>"
      ],
      "text/plain": [
       "                   Labels  #Samples\n",
       "0                    uuid     27550\n",
       "1                datetime     27550\n",
       "2          cough_detected     27550\n",
       "3                     SNR     27550\n",
       "4                latitude     16084\n",
       "5               longitude     16084\n",
       "6                     age     15218\n",
       "7                  gender     16224\n",
       "8   respiratory_condition     16224\n",
       "9       fever_muscle_pain     16224\n",
       "10                 status     16224\n",
       "11              quality_1       820\n",
       "12           cough_type_1       802\n",
       "13              dyspnea_1       820\n",
       "14             wheezing_1       820\n",
       "15              stridor_1       820\n",
       "16              choking_1       820\n",
       "17           congestion_1       820\n",
       "18              nothing_1       820\n",
       "19            diagnosis_1       802\n",
       "20             severity_1       802\n",
       "21              quality_2       820\n",
       "22           cough_type_2       801\n",
       "23              dyspnea_2       820\n",
       "24             wheezing_2       820\n",
       "25              stridor_2       820\n",
       "26              choking_2       820\n",
       "27           congestion_2       820\n",
       "28              nothing_2       820\n",
       "29            diagnosis_2       802\n",
       "30             severity_2       802\n",
       "31              quality_3       820\n",
       "32           cough_type_3       795\n",
       "33              dyspnea_3       820\n",
       "34             wheezing_3       820\n",
       "35              stridor_3       820\n",
       "36              choking_3       820\n",
       "37           congestion_3       820\n",
       "38              nothing_3       820\n",
       "39            diagnosis_3       792\n",
       "40             severity_3       795\n",
       "41              quality_4       820\n",
       "42           cough_type_4       801\n",
       "43              dyspnea_4       820\n",
       "44             wheezing_4       820\n",
       "45              stridor_4       820\n",
       "46              choking_4       820\n",
       "47           congestion_4       820\n",
       "48              nothing_4       820\n",
       "49            diagnosis_4       789\n",
       "50             severity_4       799"
      ]
     },
     "execution_count": 40,
     "metadata": {},
     "output_type": "execute_result"
    }
   ],
   "source": [
    "DF2 = DF.notna().sum(axis=0)\n",
    "DF2 = DF2.to_frame(name=\"#Samples\")\n",
    "DF2.index.name = \"Labels\"\n",
    "DF2 = DF2.reset_index()\n",
    "\n",
    "table = wandb.Table(dataframe=DF2)\n",
    "\n",
    "wandb.log({\"Num_samples_per_labels_test3\": table})\n",
    "#wandb.log({\"Num_samples_per_labels\" : wandb.plot.bar(table, \"Label\", \"Num_Samples\",\n",
    "#                            title=\"Number of samples that include each label\")})\n",
    "DF2"
   ]
  },
  {
   "cell_type": "code",
   "execution_count": 41,
   "metadata": {},
   "outputs": [],
   "source": [
    "DF2 = DF.notna().sum(axis=0)\n",
    "#wandb.run.log({\"Num_samples_per_labels\": wandb.Image(saveDir)})\n",
    "#data = [[label, val] for (label, val) in zip(DF2.keys(), DF2.values)]\n",
    "#table = wandb.Table(data=data[:3], columns = [\"Label\", \"Num_Samples\"])\n",
    "\n",
    "wandb.log({\"Num_samples_per_labels_table\": table})\n",
    "wandb.log({\"Num_samples_per_labels\" : wandb.plot.bar(table, \"Label\", \"Num_Samples\",\n",
    "                            title=\"Number of samples that include each label\")})"
   ]
  },
  {
   "cell_type": "code",
   "execution_count": 42,
   "metadata": {},
   "outputs": [],
   "source": [
    "#DF[DF.notna()[\"status\"]][\"cough_detected\"].to_frame()\n",
    "table = wandb.Table(dataframe=DF[DF.notna()[\"status\"]][\"cough_detected\"].to_frame())\n",
    "wandb.log({\"cough_detected_dist_with_status_table\": table})\n",
    "#wandb.log({\"cough_detected_dist_with_status_plot\" : wandb.plot.histogram(table, \"cough_detected\",\n",
    "#                            title=\"Histogram of cought probabilities\")})"
   ]
  },
  {
   "cell_type": "code",
   "execution_count": 43,
   "metadata": {},
   "outputs": [
    {
     "name": "stdout",
     "output_type": "stream",
     "text": [
      "[1668  663  412  428  415  433  572  814 1343 9476]\n",
      "[0.  0.1 0.2 0.3 0.4 0.5 0.6 0.7 0.8 0.9 1. ]\n"
     ]
    }
   ],
   "source": [
    "DF[DF.notna()[\"status\"]][\"cough_detected\"].to_frame(name=\"Probabilities\")\n",
    "n_np, bins_np = np.histogram(DF[DF.notna()[\"status\"]][\"cough_detected\"], 10)\n",
    "print(n_np)\n",
    "print(bins_np)"
   ]
  },
  {
   "cell_type": "code",
   "execution_count": 44,
   "metadata": {},
   "outputs": [
    {
     "name": "stderr",
     "output_type": "stream",
     "text": [
      "wandb: WARNING Source type is set to 'repo' but some required information is missing from the environment. A job will not be created from this run. See https://docs.wandb.ai/guides/launch/create-job\n"
     ]
    },
    {
     "data": {
      "text/html": [
       "<style>\n",
       "    table.wandb td:nth-child(1) { padding: 0 10px; text-align: left ; width: auto;} td:nth-child(2) {text-align: left ; width: 100%}\n",
       "    .wandb-row { display: flex; flex-direction: row; flex-wrap: wrap; justify-content: flex-start; width: 100% }\n",
       "    .wandb-col { display: flex; flex-direction: column; flex-basis: 100%; flex: 1; padding: 10px; }\n",
       "    </style>\n",
       "<div class=\"wandb-row\"><div class=\"wandb-col\"><h3>Run summary:</h3><br/><table class=\"wandb\"><tr><td>Key</td><td>Value</td></tr></table><br/></div></div>"
      ],
      "text/plain": [
       "<IPython.core.display.HTML object>"
      ]
     },
     "metadata": {},
     "output_type": "display_data"
    },
    {
     "data": {
      "text/html": [
       " View run <strong style=\"color:#cdcd00\">test_exploration2</strong> at: <a href='https://wandb.ai/ce8-840/test_2/runs/4mps0szm' target=\"_blank\">https://wandb.ai/ce8-840/test_2/runs/4mps0szm</a><br/>Synced 5 W&B file(s), 4 media file(s), 3 artifact file(s) and 0 other file(s)"
      ],
      "text/plain": [
       "<IPython.core.display.HTML object>"
      ]
     },
     "metadata": {},
     "output_type": "display_data"
    },
    {
     "data": {
      "text/html": [
       "Find logs at: <code>./wandb/run-20240313_155514-4mps0szm/logs</code>"
      ],
      "text/plain": [
       "<IPython.core.display.HTML object>"
      ]
     },
     "metadata": {},
     "output_type": "display_data"
    }
   ],
   "source": [
    "wandb.finish()"
   ]
  }
 ],
 "metadata": {
  "kernelspec": {
   "display_name": ".venv",
   "language": "python",
   "name": "python3"
  },
  "language_info": {
   "codemirror_mode": {
    "name": "ipython",
    "version": 3
   },
   "file_extension": ".py",
   "mimetype": "text/x-python",
   "name": "python",
   "nbconvert_exporter": "python",
   "pygments_lexer": "ipython3",
   "version": "3.11.8"
  }
 },
 "nbformat": 4,
 "nbformat_minor": 2
}
