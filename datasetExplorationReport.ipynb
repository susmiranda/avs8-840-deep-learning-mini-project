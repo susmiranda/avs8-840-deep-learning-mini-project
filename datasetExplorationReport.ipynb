{
 "cells": [
  {
   "cell_type": "code",
   "execution_count": 18,
   "metadata": {},
   "outputs": [],
   "source": [
    "import pandas as pd\n",
    "import numpy as np\n",
    "import matplotlib.pyplot as plt\n",
    "import IPython.display as ipd\n",
    "import librosa\n",
    "import wandb\n",
    "useWandb = True"
   ]
  },
  {
   "cell_type": "code",
   "execution_count": 19,
   "metadata": {},
   "outputs": [
    {
     "name": "stdout",
     "output_type": "stream",
     "text": [
      "env: \"WANDB_NOTEBOOK_NAME\"=\"datasetExplorationReport\"\n"
     ]
    }
   ],
   "source": [
    "%env \"WANDB_NOTEBOOK_NAME\" \"datasetExplorationReport\""
   ]
  },
  {
   "cell_type": "code",
   "execution_count": 20,
   "metadata": {},
   "outputs": [
    {
     "data": {
      "text/html": [
       "Tracking run with wandb version 0.16.4"
      ],
      "text/plain": [
       "<IPython.core.display.HTML object>"
      ]
     },
     "metadata": {},
     "output_type": "display_data"
    },
    {
     "data": {
      "text/html": [
       "Run data is saved locally in <code>/home/mdalal/Documents/AVS8-Files/Deep Learning/avs8-840-deep-learning-mini-project/wandb/run-20240313_155620-35zhd9ap</code>"
      ],
      "text/plain": [
       "<IPython.core.display.HTML object>"
      ]
     },
     "metadata": {},
     "output_type": "display_data"
    },
    {
     "data": {
      "text/html": [
       "Syncing run <strong><a href='https://wandb.ai/ce8-840/test_2/runs/35zhd9ap' target=\"_blank\">DatasetExploration5</a></strong> to <a href='https://wandb.ai/ce8-840/test_2' target=\"_blank\">Weights & Biases</a> (<a href='https://wandb.me/run' target=\"_blank\">docs</a>)<br/>"
      ],
      "text/plain": [
       "<IPython.core.display.HTML object>"
      ]
     },
     "metadata": {},
     "output_type": "display_data"
    },
    {
     "data": {
      "text/html": [
       " View project at <a href='https://wandb.ai/ce8-840/test_2' target=\"_blank\">https://wandb.ai/ce8-840/test_2</a>"
      ],
      "text/plain": [
       "<IPython.core.display.HTML object>"
      ]
     },
     "metadata": {},
     "output_type": "display_data"
    },
    {
     "data": {
      "text/html": [
       " View run at <a href='https://wandb.ai/ce8-840/test_2/runs/35zhd9ap' target=\"_blank\">https://wandb.ai/ce8-840/test_2/runs/35zhd9ap</a>"
      ],
      "text/plain": [
       "<IPython.core.display.HTML object>"
      ]
     },
     "metadata": {},
     "output_type": "display_data"
    }
   ],
   "source": [
    "if useWandb:\n",
    "    wandb.login() # This should work automatically after the first time. For the first time you will need an API key.\n",
    "    '''\n",
    "    Initiating a run:\n",
    "    project: The name of the project. Needs to be common between group members.\n",
    "    entity: The name of the group. ce8-840\n",
    "    name: The name of the run. Should be a good descriptor of the contents.\n",
    "    '''\n",
    "    #wandb.init(project=\"avs8-840-deep-learning-mini-project\", entity='ce8-840', name='DatasetExploration',\n",
    "    #        tags=[\"DatasetExploration\"], notes=\"First dataset exploration run.\")\n",
    "    wandb.init(project=\"test_2\", entity='ce8-840', name='DatasetExploration5',\n",
    "            tags=[\"DatasetExploration\"], notes=\"First dataset exploration run.\")"
   ]
  },
  {
   "cell_type": "markdown",
   "metadata": {},
   "source": [
    "# Original Paper of Dataset\n",
    "Orlandic, L., Teijeiro, T. & Atienza, D. The COUGHVID crowdsourcing dataset, a corpus for the study of large-scale cough analysis algorithms. Sci Data 8, 156 (2021). [https://doi.org/10.1038/s41597-021-00937-4](https://doi.org/10.1038/s41597-021-00937-4)"
   ]
  },
  {
   "cell_type": "markdown",
   "metadata": {},
   "source": [
    "# Samples in the dataset\n",
    "First we load the metadata csv and display it. We can see that the entire dataset has 27550 rows, meaning there are 27550 sampels. "
   ]
  },
  {
   "cell_type": "code",
   "execution_count": 21,
   "metadata": {},
   "outputs": [
    {
     "data": {
      "text/html": [
       "<div>\n",
       "<style scoped>\n",
       "    .dataframe tbody tr th:only-of-type {\n",
       "        vertical-align: middle;\n",
       "    }\n",
       "\n",
       "    .dataframe tbody tr th {\n",
       "        vertical-align: top;\n",
       "    }\n",
       "\n",
       "    .dataframe thead th {\n",
       "        text-align: right;\n",
       "    }\n",
       "</style>\n",
       "<table border=\"1\" class=\"dataframe\">\n",
       "  <thead>\n",
       "    <tr style=\"text-align: right;\">\n",
       "      <th></th>\n",
       "      <th>uuid</th>\n",
       "      <th>datetime</th>\n",
       "      <th>cough_detected</th>\n",
       "      <th>SNR</th>\n",
       "      <th>latitude</th>\n",
       "      <th>longitude</th>\n",
       "      <th>age</th>\n",
       "      <th>gender</th>\n",
       "      <th>respiratory_condition</th>\n",
       "      <th>fever_muscle_pain</th>\n",
       "      <th>...</th>\n",
       "      <th>quality_4</th>\n",
       "      <th>cough_type_4</th>\n",
       "      <th>dyspnea_4</th>\n",
       "      <th>wheezing_4</th>\n",
       "      <th>stridor_4</th>\n",
       "      <th>choking_4</th>\n",
       "      <th>congestion_4</th>\n",
       "      <th>nothing_4</th>\n",
       "      <th>diagnosis_4</th>\n",
       "      <th>severity_4</th>\n",
       "    </tr>\n",
       "  </thead>\n",
       "  <tbody>\n",
       "    <tr>\n",
       "      <th>0</th>\n",
       "      <td>00014dcc-0f06-4c27-8c7b-737b18a2cf4c</td>\n",
       "      <td>2020-11-25T18:58:50.488301+00:00</td>\n",
       "      <td>0.0155</td>\n",
       "      <td>7.326171</td>\n",
       "      <td>48.9</td>\n",
       "      <td>2.4</td>\n",
       "      <td>NaN</td>\n",
       "      <td>NaN</td>\n",
       "      <td>NaN</td>\n",
       "      <td>NaN</td>\n",
       "      <td>...</td>\n",
       "      <td>NaN</td>\n",
       "      <td>NaN</td>\n",
       "      <td>NaN</td>\n",
       "      <td>NaN</td>\n",
       "      <td>NaN</td>\n",
       "      <td>NaN</td>\n",
       "      <td>NaN</td>\n",
       "      <td>NaN</td>\n",
       "      <td>NaN</td>\n",
       "      <td>NaN</td>\n",
       "    </tr>\n",
       "    <tr>\n",
       "      <th>1</th>\n",
       "      <td>00039425-7f3a-42aa-ac13-834aaa2b6b92</td>\n",
       "      <td>2020-04-13T21:30:59.801831+00:00</td>\n",
       "      <td>0.9609</td>\n",
       "      <td>16.151433</td>\n",
       "      <td>31.3</td>\n",
       "      <td>34.8</td>\n",
       "      <td>15.0</td>\n",
       "      <td>male</td>\n",
       "      <td>False</td>\n",
       "      <td>False</td>\n",
       "      <td>...</td>\n",
       "      <td>NaN</td>\n",
       "      <td>NaN</td>\n",
       "      <td>NaN</td>\n",
       "      <td>NaN</td>\n",
       "      <td>NaN</td>\n",
       "      <td>NaN</td>\n",
       "      <td>NaN</td>\n",
       "      <td>NaN</td>\n",
       "      <td>NaN</td>\n",
       "      <td>NaN</td>\n",
       "    </tr>\n",
       "    <tr>\n",
       "      <th>2</th>\n",
       "      <td>0007c6f1-5441-40e6-9aaf-a761d8f2da3b</td>\n",
       "      <td>2020-10-18T15:38:38.205870+00:00</td>\n",
       "      <td>0.1643</td>\n",
       "      <td>16.217201</td>\n",
       "      <td>NaN</td>\n",
       "      <td>NaN</td>\n",
       "      <td>46.0</td>\n",
       "      <td>female</td>\n",
       "      <td>False</td>\n",
       "      <td>False</td>\n",
       "      <td>...</td>\n",
       "      <td>NaN</td>\n",
       "      <td>NaN</td>\n",
       "      <td>NaN</td>\n",
       "      <td>NaN</td>\n",
       "      <td>NaN</td>\n",
       "      <td>NaN</td>\n",
       "      <td>NaN</td>\n",
       "      <td>NaN</td>\n",
       "      <td>NaN</td>\n",
       "      <td>NaN</td>\n",
       "    </tr>\n",
       "    <tr>\n",
       "      <th>3</th>\n",
       "      <td>0009eb28-d8be-4dc1-92bb-907e53bc5c7a</td>\n",
       "      <td>2020-04-12T04:02:18.159383+00:00</td>\n",
       "      <td>0.9301</td>\n",
       "      <td>20.146058</td>\n",
       "      <td>40.0</td>\n",
       "      <td>-75.1</td>\n",
       "      <td>34.0</td>\n",
       "      <td>male</td>\n",
       "      <td>True</td>\n",
       "      <td>False</td>\n",
       "      <td>...</td>\n",
       "      <td>NaN</td>\n",
       "      <td>NaN</td>\n",
       "      <td>NaN</td>\n",
       "      <td>NaN</td>\n",
       "      <td>NaN</td>\n",
       "      <td>NaN</td>\n",
       "      <td>NaN</td>\n",
       "      <td>NaN</td>\n",
       "      <td>NaN</td>\n",
       "      <td>NaN</td>\n",
       "    </tr>\n",
       "    <tr>\n",
       "      <th>4</th>\n",
       "      <td>0012c608-33d0-4ef7-bde3-75a0b1a0024e</td>\n",
       "      <td>2020-04-15T01:03:59.029326+00:00</td>\n",
       "      <td>0.0482</td>\n",
       "      <td>0.000000</td>\n",
       "      <td>-16.5</td>\n",
       "      <td>-71.5</td>\n",
       "      <td>NaN</td>\n",
       "      <td>NaN</td>\n",
       "      <td>NaN</td>\n",
       "      <td>NaN</td>\n",
       "      <td>...</td>\n",
       "      <td>NaN</td>\n",
       "      <td>NaN</td>\n",
       "      <td>NaN</td>\n",
       "      <td>NaN</td>\n",
       "      <td>NaN</td>\n",
       "      <td>NaN</td>\n",
       "      <td>NaN</td>\n",
       "      <td>NaN</td>\n",
       "      <td>NaN</td>\n",
       "      <td>NaN</td>\n",
       "    </tr>\n",
       "    <tr>\n",
       "      <th>...</th>\n",
       "      <td>...</td>\n",
       "      <td>...</td>\n",
       "      <td>...</td>\n",
       "      <td>...</td>\n",
       "      <td>...</td>\n",
       "      <td>...</td>\n",
       "      <td>...</td>\n",
       "      <td>...</td>\n",
       "      <td>...</td>\n",
       "      <td>...</td>\n",
       "      <td>...</td>\n",
       "      <td>...</td>\n",
       "      <td>...</td>\n",
       "      <td>...</td>\n",
       "      <td>...</td>\n",
       "      <td>...</td>\n",
       "      <td>...</td>\n",
       "      <td>...</td>\n",
       "      <td>...</td>\n",
       "      <td>...</td>\n",
       "      <td>...</td>\n",
       "    </tr>\n",
       "    <tr>\n",
       "      <th>27545</th>\n",
       "      <td>fff30afc-db62-4408-a585-07ca9a254fcc</td>\n",
       "      <td>2020-11-05T08:26:04.219206+00:00</td>\n",
       "      <td>0.9698</td>\n",
       "      <td>11.109221</td>\n",
       "      <td>40.7</td>\n",
       "      <td>29.8</td>\n",
       "      <td>NaN</td>\n",
       "      <td>NaN</td>\n",
       "      <td>NaN</td>\n",
       "      <td>NaN</td>\n",
       "      <td>...</td>\n",
       "      <td>NaN</td>\n",
       "      <td>NaN</td>\n",
       "      <td>NaN</td>\n",
       "      <td>NaN</td>\n",
       "      <td>NaN</td>\n",
       "      <td>NaN</td>\n",
       "      <td>NaN</td>\n",
       "      <td>NaN</td>\n",
       "      <td>NaN</td>\n",
       "      <td>NaN</td>\n",
       "    </tr>\n",
       "    <tr>\n",
       "      <th>27546</th>\n",
       "      <td>fff3ff61-2387-4139-938b-539db01e6be5</td>\n",
       "      <td>2020-06-28T21:28:21.530881+00:00</td>\n",
       "      <td>0.5257</td>\n",
       "      <td>43.932829</td>\n",
       "      <td>51.6</td>\n",
       "      <td>-0.2</td>\n",
       "      <td>NaN</td>\n",
       "      <td>female</td>\n",
       "      <td>False</td>\n",
       "      <td>False</td>\n",
       "      <td>...</td>\n",
       "      <td>NaN</td>\n",
       "      <td>NaN</td>\n",
       "      <td>NaN</td>\n",
       "      <td>NaN</td>\n",
       "      <td>NaN</td>\n",
       "      <td>NaN</td>\n",
       "      <td>NaN</td>\n",
       "      <td>NaN</td>\n",
       "      <td>NaN</td>\n",
       "      <td>NaN</td>\n",
       "    </tr>\n",
       "    <tr>\n",
       "      <th>27547</th>\n",
       "      <td>fff474bf-39a4-4a61-8348-6b992fb5e439</td>\n",
       "      <td>2020-04-10T05:10:36.787070+00:00</td>\n",
       "      <td>0.1945</td>\n",
       "      <td>27.702036</td>\n",
       "      <td>-39.0</td>\n",
       "      <td>-68.1</td>\n",
       "      <td>NaN</td>\n",
       "      <td>NaN</td>\n",
       "      <td>NaN</td>\n",
       "      <td>NaN</td>\n",
       "      <td>...</td>\n",
       "      <td>NaN</td>\n",
       "      <td>NaN</td>\n",
       "      <td>NaN</td>\n",
       "      <td>NaN</td>\n",
       "      <td>NaN</td>\n",
       "      <td>NaN</td>\n",
       "      <td>NaN</td>\n",
       "      <td>NaN</td>\n",
       "      <td>NaN</td>\n",
       "      <td>NaN</td>\n",
       "    </tr>\n",
       "    <tr>\n",
       "      <th>27548</th>\n",
       "      <td>fffaa9f8-4db0-46c5-90fb-93b7b014b55d</td>\n",
       "      <td>2020-04-13T18:58:26.954663+00:00</td>\n",
       "      <td>0.0243</td>\n",
       "      <td>8.825849</td>\n",
       "      <td>41.0</td>\n",
       "      <td>28.8</td>\n",
       "      <td>50.0</td>\n",
       "      <td>male</td>\n",
       "      <td>True</td>\n",
       "      <td>True</td>\n",
       "      <td>...</td>\n",
       "      <td>NaN</td>\n",
       "      <td>NaN</td>\n",
       "      <td>NaN</td>\n",
       "      <td>NaN</td>\n",
       "      <td>NaN</td>\n",
       "      <td>NaN</td>\n",
       "      <td>NaN</td>\n",
       "      <td>NaN</td>\n",
       "      <td>NaN</td>\n",
       "      <td>NaN</td>\n",
       "    </tr>\n",
       "    <tr>\n",
       "      <th>27549</th>\n",
       "      <td>fffce9f0-a5e8-4bee-b13b-c671aac4a61c</td>\n",
       "      <td>2020-04-14T13:02:33.307684+00:00</td>\n",
       "      <td>0.9754</td>\n",
       "      <td>26.774745</td>\n",
       "      <td>41.0</td>\n",
       "      <td>28.7</td>\n",
       "      <td>NaN</td>\n",
       "      <td>NaN</td>\n",
       "      <td>NaN</td>\n",
       "      <td>NaN</td>\n",
       "      <td>...</td>\n",
       "      <td>NaN</td>\n",
       "      <td>NaN</td>\n",
       "      <td>NaN</td>\n",
       "      <td>NaN</td>\n",
       "      <td>NaN</td>\n",
       "      <td>NaN</td>\n",
       "      <td>NaN</td>\n",
       "      <td>NaN</td>\n",
       "      <td>NaN</td>\n",
       "      <td>NaN</td>\n",
       "    </tr>\n",
       "  </tbody>\n",
       "</table>\n",
       "<p>27550 rows × 51 columns</p>\n",
       "</div>"
      ],
      "text/plain": [
       "                                       uuid                          datetime  \\\n",
       "0      00014dcc-0f06-4c27-8c7b-737b18a2cf4c  2020-11-25T18:58:50.488301+00:00   \n",
       "1      00039425-7f3a-42aa-ac13-834aaa2b6b92  2020-04-13T21:30:59.801831+00:00   \n",
       "2      0007c6f1-5441-40e6-9aaf-a761d8f2da3b  2020-10-18T15:38:38.205870+00:00   \n",
       "3      0009eb28-d8be-4dc1-92bb-907e53bc5c7a  2020-04-12T04:02:18.159383+00:00   \n",
       "4      0012c608-33d0-4ef7-bde3-75a0b1a0024e  2020-04-15T01:03:59.029326+00:00   \n",
       "...                                     ...                               ...   \n",
       "27545  fff30afc-db62-4408-a585-07ca9a254fcc  2020-11-05T08:26:04.219206+00:00   \n",
       "27546  fff3ff61-2387-4139-938b-539db01e6be5  2020-06-28T21:28:21.530881+00:00   \n",
       "27547  fff474bf-39a4-4a61-8348-6b992fb5e439  2020-04-10T05:10:36.787070+00:00   \n",
       "27548  fffaa9f8-4db0-46c5-90fb-93b7b014b55d  2020-04-13T18:58:26.954663+00:00   \n",
       "27549  fffce9f0-a5e8-4bee-b13b-c671aac4a61c  2020-04-14T13:02:33.307684+00:00   \n",
       "\n",
       "       cough_detected        SNR  latitude  longitude   age  gender  \\\n",
       "0              0.0155   7.326171      48.9        2.4   NaN     NaN   \n",
       "1              0.9609  16.151433      31.3       34.8  15.0    male   \n",
       "2              0.1643  16.217201       NaN        NaN  46.0  female   \n",
       "3              0.9301  20.146058      40.0      -75.1  34.0    male   \n",
       "4              0.0482   0.000000     -16.5      -71.5   NaN     NaN   \n",
       "...               ...        ...       ...        ...   ...     ...   \n",
       "27545          0.9698  11.109221      40.7       29.8   NaN     NaN   \n",
       "27546          0.5257  43.932829      51.6       -0.2   NaN  female   \n",
       "27547          0.1945  27.702036     -39.0      -68.1   NaN     NaN   \n",
       "27548          0.0243   8.825849      41.0       28.8  50.0    male   \n",
       "27549          0.9754  26.774745      41.0       28.7   NaN     NaN   \n",
       "\n",
       "      respiratory_condition fever_muscle_pain  ... quality_4 cough_type_4  \\\n",
       "0                       NaN               NaN  ...       NaN          NaN   \n",
       "1                     False             False  ...       NaN          NaN   \n",
       "2                     False             False  ...       NaN          NaN   \n",
       "3                      True             False  ...       NaN          NaN   \n",
       "4                       NaN               NaN  ...       NaN          NaN   \n",
       "...                     ...               ...  ...       ...          ...   \n",
       "27545                   NaN               NaN  ...       NaN          NaN   \n",
       "27546                 False             False  ...       NaN          NaN   \n",
       "27547                   NaN               NaN  ...       NaN          NaN   \n",
       "27548                  True              True  ...       NaN          NaN   \n",
       "27549                   NaN               NaN  ...       NaN          NaN   \n",
       "\n",
       "      dyspnea_4 wheezing_4 stridor_4 choking_4 congestion_4 nothing_4  \\\n",
       "0           NaN        NaN       NaN       NaN          NaN       NaN   \n",
       "1           NaN        NaN       NaN       NaN          NaN       NaN   \n",
       "2           NaN        NaN       NaN       NaN          NaN       NaN   \n",
       "3           NaN        NaN       NaN       NaN          NaN       NaN   \n",
       "4           NaN        NaN       NaN       NaN          NaN       NaN   \n",
       "...         ...        ...       ...       ...          ...       ...   \n",
       "27545       NaN        NaN       NaN       NaN          NaN       NaN   \n",
       "27546       NaN        NaN       NaN       NaN          NaN       NaN   \n",
       "27547       NaN        NaN       NaN       NaN          NaN       NaN   \n",
       "27548       NaN        NaN       NaN       NaN          NaN       NaN   \n",
       "27549       NaN        NaN       NaN       NaN          NaN       NaN   \n",
       "\n",
       "      diagnosis_4 severity_4  \n",
       "0             NaN        NaN  \n",
       "1             NaN        NaN  \n",
       "2             NaN        NaN  \n",
       "3             NaN        NaN  \n",
       "4             NaN        NaN  \n",
       "...           ...        ...  \n",
       "27545         NaN        NaN  \n",
       "27546         NaN        NaN  \n",
       "27547         NaN        NaN  \n",
       "27548         NaN        NaN  \n",
       "27549         NaN        NaN  \n",
       "\n",
       "[27550 rows x 51 columns]"
      ]
     },
     "execution_count": 21,
     "metadata": {},
     "output_type": "execute_result"
    }
   ],
   "source": [
    "DF = pd.read_csv(\"dataset/metadata_compiled.csv\")\n",
    "DF"
   ]
  },
  {
   "cell_type": "markdown",
   "metadata": {},
   "source": [
    "# Number of Classes and Samples Per Class\n",
    "There are 51 columns in the dataset. However, according the dataset paper UUID, datetime and cough_detected cannot be a target of a prediction model. This means that any of the 48 remaining labels can be used as a classification target. We choose to work with the status label which is the self-reported COVID-19 diagnosis. It has one of three classes:\n",
    "- Healthy\n",
    "- Symptomatic\n",
    "- COVID_19\n",
    "\n",
    "And the number of samples per class are:"
   ]
  },
  {
   "cell_type": "code",
   "execution_count": 22,
   "metadata": {},
   "outputs": [],
   "source": [
    "DF[\"status\"].value_counts()\n",
    "if useWandb:\n",
    "    wandb.run.log({\"Status_class_dist_table\": dict(DF[\"status\"].value_counts())})"
   ]
  },
  {
   "cell_type": "markdown",
   "metadata": {},
   "source": [
    "This can be shown in a bar plot:"
   ]
  },
  {
   "cell_type": "code",
   "execution_count": 23,
   "metadata": {},
   "outputs": [
    {
     "data": {
      "image/png": "[encoded data removed]",
      "text/plain": [
       "<Figure size 640x480 with 1 Axes>"
      ]
     },
     "metadata": {},
     "output_type": "display_data"
    }
   ],
   "source": [
    "saveDir = \"Status_class_dist.png\"\n",
    "Fig, ax = plt.subplots()\n",
    "DF2 = DF[\"status\"].value_counts()\n",
    "DF2.plot.bar(ax=ax)\n",
    "ax.set_title(\"Class distribution of status label\")\n",
    "ax.tick_params(axis='x', labelrotation=0)\n",
    "ax.set_xlabel(\"Class\")\n",
    "ax.set_ylabel(\"#Samples\")\n",
    "Fig.savefig(saveDir, dpi=200, bbox_inches=\"tight\")\n",
    "if useWandb:\n",
    "    wandb.run.log({\"Status_class_dist\": wandb.Image(saveDir)})\n",
    "    data = [[label, val] for (label, val) in zip(DF2.keys(), DF2.values)]\n",
    "    table = wandb.Table(data=data, columns = [\"Class\", \"NumSamples\"])\n",
    "    wandb.log({\"Status_class_dist\" : wandb.plot.bar(table, \"Class\", \"NumSamples\",\n",
    "                               title=\"Class distribution of status label\")})"
   ]
  },
  {
   "cell_type": "markdown",
   "metadata": {},
   "source": [
    "I can be seen that there are almost 10 times less COVID_19 samples than healthy samples. Leading to a class distribution of 1/11 if only working with those two classes."
   ]
  },
  {
   "cell_type": "markdown",
   "metadata": {},
   "source": [
    "# Playing a Random Sample from Each Status Class"
   ]
  },
  {
   "cell_type": "markdown",
   "metadata": {},
   "source": [
    "Healthy sample:"
   ]
  },
  {
   "cell_type": "code",
   "execution_count": 24,
   "metadata": {},
   "outputs": [
    {
     "name": "stderr",
     "output_type": "stream",
     "text": [
      "/tmp/ipykernel_23584/3764508168.py:1: UserWarning: PySoundFile failed. Trying audioread instead.\n",
      "  x, sr = librosa.load(\"dataset/04fedb0b-3f11-4cc4-b1ef-c9919fdfbe78.webm\")\n",
      "/home/mdalal/Documents/AVS8-Files/Deep Learning/avs8-840-deep-learning-mini-project/venv/lib/python3.11/site-packages/librosa/core/audio.py:183: FutureWarning: librosa.core.audio.__audioread_load\n",
      "\tDeprecated as of librosa version 0.10.0.\n",
      "\tIt will be removed in librosa version 1.0.\n",
      "  y, sr_native = __audioread_load(path, offset, duration, dtype)\n"
     ]
    }
   ],
   "source": [
    "x, sr = librosa.load(\"dataset/04fedb0b-3f11-4cc4-b1ef-c9919fdfbe78.webm\")\n",
    "ipd.Audio(x, rate=sr)\n",
    "if useWandb:\n",
    "    wandb.run.log({\"Healthy_sample\": wandb.Audio(x, sr)})"
   ]
  },
  {
   "cell_type": "markdown",
   "metadata": {},
   "source": [
    "Symptomatic sample:"
   ]
  },
  {
   "cell_type": "code",
   "execution_count": 25,
   "metadata": {},
   "outputs": [
    {
     "name": "stderr",
     "output_type": "stream",
     "text": [
      "/tmp/ipykernel_23584/3517552962.py:1: UserWarning: PySoundFile failed. Trying audioread instead.\n",
      "  x, sr = librosa.load(\"dataset/de2eb773-e0f9-4a5d-9df3-870ba5ce1dbf.webm\")\n",
      "/home/mdalal/Documents/AVS8-Files/Deep Learning/avs8-840-deep-learning-mini-project/venv/lib/python3.11/site-packages/librosa/core/audio.py:183: FutureWarning: librosa.core.audio.__audioread_load\n",
      "\tDeprecated as of librosa version 0.10.0.\n",
      "\tIt will be removed in librosa version 1.0.\n",
      "  y, sr_native = __audioread_load(path, offset, duration, dtype)\n"
     ]
    }
   ],
   "source": [
    "x, sr = librosa.load(\"dataset/de2eb773-e0f9-4a5d-9df3-870ba5ce1dbf.webm\")\n",
    "ipd.Audio(x, rate=sr)\n",
    "if useWandb:\n",
    "    wandb.run.log({\"Symptomatic_sample\": wandb.Audio(x, sr)})"
   ]
  },
  {
   "cell_type": "markdown",
   "metadata": {},
   "source": [
    "Covid positive sample:"
   ]
  },
  {
   "cell_type": "code",
   "execution_count": 26,
   "metadata": {},
   "outputs": [
    {
     "name": "stderr",
     "output_type": "stream",
     "text": [
      "/tmp/ipykernel_23584/2889637061.py:1: UserWarning: PySoundFile failed. Trying audioread instead.\n",
      "  x, sr = librosa.load(\"dataset/ff8363d2-016d-4738-9499-4c62480886fb.webm\")\n",
      "/home/mdalal/Documents/AVS8-Files/Deep Learning/avs8-840-deep-learning-mini-project/venv/lib/python3.11/site-packages/librosa/core/audio.py:183: FutureWarning: librosa.core.audio.__audioread_load\n",
      "\tDeprecated as of librosa version 0.10.0.\n",
      "\tIt will be removed in librosa version 1.0.\n",
      "  y, sr_native = __audioread_load(path, offset, duration, dtype)\n"
     ]
    }
   ],
   "source": [
    "x, sr = librosa.load(\"dataset/ff8363d2-016d-4738-9499-4c62480886fb.webm\")\n",
    "ipd.Audio(x, rate=sr)\n",
    "if useWandb:\n",
    "    wandb.run.log({\"COVID_sample\": wandb.Audio(x, sr)})"
   ]
  },
  {
   "cell_type": "markdown",
   "metadata": {},
   "source": [
    "# Effect of Data Distribution\n",
    "The amount of COVID_19 samples is an order of magnitude less compared to the healthy class, while symptomatic is also around 5 times less than healthy. This will cause class imbalance problems when training the classifier. These problems can lead to the model achieving high accuracy by only predicting the samples as healthy, since almost 80% of the data has healthy labels."
   ]
  },
  {
   "cell_type": "markdown",
   "metadata": {},
   "source": [
    "## Over and Undersampling data\n",
    "\n",
    "\n",
    "Many methods exist to address class imbalance. Two of them are:\n",
    "- Over-sampling the lower classes by making new sample using replication, augmentation or interpolation of samples. Interpolation of samples can be a difficult task using raw audio files, as the audio can be quite different in both length and content.\n",
    "- Under-sampling the higher classes by removal of samples. This of course leads to a great reduction to the amount of data that can be used to train and test the model.\n",
    "\n",
    "Another way to address this imbalance is through the loss function:\n",
    "- $f_{\\beta}$ loss would put more weight into either precision or recall. This can be benificial to a medical diagnosis problem, as sometimes a false negative has a much greater impact than a false positive. Therefore, using an f-score with $\\beta > 1$ would be benificial to the classification problem.\n",
    "- Simple class weighting in L2-loss, where instead of giving equal weights to all classes, the weights are adjusted so that classes with less samples get a larger weight."
   ]
  },
  {
   "cell_type": "markdown",
   "metadata": {},
   "source": [
    "# Choice of Samples and Labels\n",
    "The number of samples in each of these label can be shown as follows:"
   ]
  },
  {
   "cell_type": "code",
   "execution_count": 27,
   "metadata": {},
   "outputs": [
    {
     "data": {
      "text/plain": [
       "uuid                     27550\n",
       "datetime                 27550\n",
       "cough_detected           27550\n",
       "SNR                      27550\n",
       "latitude                 16084\n",
       "longitude                16084\n",
       "age                      15218\n",
       "gender                   16224\n",
       "respiratory_condition    16224\n",
       "fever_muscle_pain        16224\n",
       "status                   16224\n",
       "quality_1                  820\n",
       "cough_type_1               802\n",
       "dyspnea_1                  820\n",
       "wheezing_1                 820\n",
       "stridor_1                  820\n",
       "choking_1                  820\n",
       "congestion_1               820\n",
       "nothing_1                  820\n",
       "diagnosis_1                802\n",
       "severity_1                 802\n",
       "quality_2                  820\n",
       "cough_type_2               801\n",
       "dyspnea_2                  820\n",
       "wheezing_2                 820\n",
       "stridor_2                  820\n",
       "choking_2                  820\n",
       "congestion_2               820\n",
       "nothing_2                  820\n",
       "diagnosis_2                802\n",
       "severity_2                 802\n",
       "quality_3                  820\n",
       "cough_type_3               795\n",
       "dyspnea_3                  820\n",
       "wheezing_3                 820\n",
       "stridor_3                  820\n",
       "choking_3                  820\n",
       "congestion_3               820\n",
       "nothing_3                  820\n",
       "diagnosis_3                792\n",
       "severity_3                 795\n",
       "quality_4                  820\n",
       "cough_type_4               801\n",
       "dyspnea_4                  820\n",
       "wheezing_4                 820\n",
       "stridor_4                  820\n",
       "choking_4                  820\n",
       "congestion_4               820\n",
       "nothing_4                  820\n",
       "diagnosis_4                789\n",
       "severity_4                 799\n",
       "dtype: int64"
      ]
     },
     "execution_count": 27,
     "metadata": {},
     "output_type": "execute_result"
    }
   ],
   "source": [
    "DF.notna().sum(axis=0)"
   ]
  },
  {
   "cell_type": "markdown",
   "metadata": {},
   "source": [
    "It is possible to display this information in a bar plot:"
   ]
  },
  {
   "cell_type": "code",
   "execution_count": 28,
   "metadata": {},
   "outputs": [
    {
     "data": {
      "image/png": "[encoded data removed]",
      "text/plain": [
       "<Figure size 1500x700 with 1 Axes>"
      ]
     },
     "metadata": {},
     "output_type": "display_data"
    }
   ],
   "source": [
    "saveDir = \"Num_samples_per_labels.png\"\n",
    "Fig, ax = plt.subplots(figsize=(15,7))\n",
    "DF2 = DF.notna().sum(axis=0)\n",
    "DF2.plot.bar(ax=ax)\n",
    "ax.set_title(\"Number of samples that include each label\")\n",
    "ax.set_xlabel(\"Labels\")\n",
    "ax.set_ylabel(\"#Samples\")\n",
    "Fig.savefig(saveDir, dpi=200, bbox_inches=\"tight\")\n",
    "if useWandb:\n",
    "    wandb.run.log({\"Num_samples_per_labels\": wandb.Image(saveDir)})\n",
    "    data = [[label, val] for (label, val) in zip(DF2.keys(), DF2.values)]\n",
    "    DF2 = DF2.to_frame(name=\"#Samples\")\n",
    "    DF2.index.name = \"Labels\"\n",
    "    DF2 = DF2.reset_index()\n",
    "    table = wandb.Table(dataframe=DF2)\n",
    "    wandb.log({\"Num_samples_per_labels\" : wandb.plot.bar(table, \"Label\", \"#Samples\",\n",
    "                               title=\"Number of samples that include each label\")})"
   ]
  },
  {
   "cell_type": "markdown",
   "metadata": {},
   "source": [
    "Some important details from the analysis of the dataset are:\n",
    "- All samples have UUID, Datetime, cough_detected and SNR value. However, not all samples have the rest of the labels.\n",
    "- The numbered labels are expert opinions, numbered from 1 to 4 corresponding to the 4 experts. More info about these labels can be found in the paper.\n",
    "- The results of a combination analysis shows that if a sample has a gender label, then it also has respiratory_condition, muscle_fever_pain and status labels. Furthermore, if it has an age label than it also has the aformentioned four.\n",
    "- Not all audio files actually has coughs in them. The cough-detected values is the results of a cough detector developed by the dataset makers. In the dataset paper it is suggested to only use data with a cough_detected value above 0.8, as that leads to 95% precision from their cough detector."
   ]
  },
  {
   "cell_type": "markdown",
   "metadata": {},
   "source": [
    "## Analysis of cough_detected labels\n",
    "An analysis of the values in the cough_detected labels can be benificial to the decision of the samples to be used. First the distribution of the samples according to their cough_detected labels is plotted:"
   ]
  },
  {
   "cell_type": "code",
   "execution_count": 29,
   "metadata": {},
   "outputs": [
    {
     "name": "stdout",
     "output_type": "stream",
     "text": [
      "Samples with probability under 0.8:  12425\n",
      "Samples with probability above 0.8:  15125\n"
     ]
    },
    {
     "data": {
      "image/png": "[encoded data removed]",
      "text/plain": [
       "<Figure size 640x480 with 1 Axes>"
      ]
     },
     "metadata": {},
     "output_type": "display_data"
    }
   ],
   "source": [
    "saveDir = \"cough_detected_dist.png\"\n",
    "Fig, ax = plt.subplots()\n",
    "DF2 = DF[\"cough_detected\"].to_frame(name=\"Probabilities\")\n",
    "#DF[\"cough_detected\"].plot.hist(bins=10, ax=ax)\n",
    "DF2.plot.hist(bins=10, ax=ax)\n",
    "ax.set_title(\"Cough_detected value distribution\")\n",
    "ax.tick_params(axis='x', labelrotation=0)\n",
    "ax.set_xlabel(\"Probablity of cough detection\")\n",
    "ax.set_ylabel(\"#Samples\")\n",
    "Fig.savefig(saveDir, dpi=200, bbox_inches=\"tight\")\n",
    "print(\"Samples with probability under 0.8: \", (DF[\"cough_detected\"] < 0.8).sum())\n",
    "print(\"Samples with probability above 0.8: \", (DF[\"cough_detected\"] >= 0.8).sum())\n",
    "if useWandb:\n",
    "    wandb.run.log({\"cough_detected_dist\": wandb.Image(saveDir)})\n",
    "    table = wandb.Table(dataframe=DF2)\n",
    "    #wandb.log({\"cough_detected_dist_table\": table})\n",
    "    wandb.log({\"cough_detected_dist\" : wandb.plot.histogram(table, \"Probabilities\",\n",
    "                            title=\"Cough_detected value distribution\")})"
   ]
  },
  {
   "cell_type": "markdown",
   "metadata": {},
   "source": [
    "It can be seen that almost half the data has a cough_detection probability under 0.8. However, by taking a look at the same distribution for data that have status labels we see that this ratio drops closer to a third:"
   ]
  },
  {
   "cell_type": "code",
   "execution_count": 30,
   "metadata": {},
   "outputs": [
    {
     "name": "stdout",
     "output_type": "stream",
     "text": [
      "Samples with probability under 0.8 and status labels:  5405\n",
      "Samples with probability above 0.8 and status labels:  10819\n"
     ]
    },
    {
     "data": {
      "image/png": "[encoded data removed]",
      "text/plain": [
       "<Figure size 640x480 with 1 Axes>"
      ]
     },
     "metadata": {},
     "output_type": "display_data"
    }
   ],
   "source": [
    "saveDir = \"cough_detected_dist_with_status.png\"\n",
    "Fig, ax = plt.subplots()\n",
    "DF2 = DF[DF.notna()[\"status\"]][\"cough_detected\"].to_frame(name=\"Probabilities\")\n",
    "#DF[DF.notna()[\"status\"]][\"cough_detected\"].plot.hist(bins=10, ax=ax)\n",
    "DF2.plot.hist(bins=10, ax=ax)\n",
    "ax.set_title(\"Cough_detected value distribution with status labels\")\n",
    "ax.tick_params(axis='x', labelrotation=0)\n",
    "ax.set_xlabel(\"Probablity of cough detection\")\n",
    "ax.set_ylabel(\"#Samples\")\n",
    "Fig.savefig(saveDir, dpi=200, bbox_inches=\"tight\")\n",
    "print(\"Samples with probability under 0.8 and status labels: \", (DF[DF.notna()[\"status\"]][\"cough_detected\"] < 0.8).sum())\n",
    "print(\"Samples with probability above 0.8 and status labels: \", (DF[DF.notna()[\"status\"]][\"cough_detected\"] >= 0.8).sum())\n",
    "if useWandb:\n",
    "    wandb.run.log({\"cough_detected_dist_with_status\": wandb.Image(saveDir)})\n",
    "    table = wandb.Table(dataframe=DF2)\n",
    "    #wandb.log({\"cough_detected_dist_with_status_table\": table})\n",
    "    wandb.log({\"cough_detected_dist_with_status\" : wandb.plot.histogram(table, \"Probabilities\",\n",
    "                            title=\"Cough_detected value distribution with status labels\")})"
   ]
  },
  {
   "cell_type": "code",
   "execution_count": 31,
   "metadata": {},
   "outputs": [
    {
     "data": {
      "text/html": [
       "<div>\n",
       "<style scoped>\n",
       "    .dataframe tbody tr th:only-of-type {\n",
       "        vertical-align: middle;\n",
       "    }\n",
       "\n",
       "    .dataframe tbody tr th {\n",
       "        vertical-align: top;\n",
       "    }\n",
       "\n",
       "    .dataframe thead th {\n",
       "        text-align: right;\n",
       "    }\n",
       "</style>\n",
       "<table border=\"1\" class=\"dataframe\">\n",
       "  <thead>\n",
       "    <tr style=\"text-align: right;\">\n",
       "      <th></th>\n",
       "      <th>Probabilities</th>\n",
       "    </tr>\n",
       "  </thead>\n",
       "  <tbody>\n",
       "    <tr>\n",
       "      <th>1</th>\n",
       "      <td>0.9609</td>\n",
       "    </tr>\n",
       "    <tr>\n",
       "      <th>2</th>\n",
       "      <td>0.1643</td>\n",
       "    </tr>\n",
       "    <tr>\n",
       "      <th>3</th>\n",
       "      <td>0.9301</td>\n",
       "    </tr>\n",
       "    <tr>\n",
       "      <th>5</th>\n",
       "      <td>0.9968</td>\n",
       "    </tr>\n",
       "    <tr>\n",
       "      <th>7</th>\n",
       "      <td>0.0306</td>\n",
       "    </tr>\n",
       "    <tr>\n",
       "      <th>...</th>\n",
       "      <td>...</td>\n",
       "    </tr>\n",
       "    <tr>\n",
       "      <th>27542</th>\n",
       "      <td>1.0000</td>\n",
       "    </tr>\n",
       "    <tr>\n",
       "      <th>27543</th>\n",
       "      <td>0.9784</td>\n",
       "    </tr>\n",
       "    <tr>\n",
       "      <th>27544</th>\n",
       "      <td>0.7154</td>\n",
       "    </tr>\n",
       "    <tr>\n",
       "      <th>27546</th>\n",
       "      <td>0.5257</td>\n",
       "    </tr>\n",
       "    <tr>\n",
       "      <th>27548</th>\n",
       "      <td>0.0243</td>\n",
       "    </tr>\n",
       "  </tbody>\n",
       "</table>\n",
       "<p>16224 rows × 1 columns</p>\n",
       "</div>"
      ],
      "text/plain": [
       "       Probabilities\n",
       "1             0.9609\n",
       "2             0.1643\n",
       "3             0.9301\n",
       "5             0.9968\n",
       "7             0.0306\n",
       "...              ...\n",
       "27542         1.0000\n",
       "27543         0.9784\n",
       "27544         0.7154\n",
       "27546         0.5257\n",
       "27548         0.0243\n",
       "\n",
       "[16224 rows x 1 columns]"
      ]
     },
     "execution_count": 31,
     "metadata": {},
     "output_type": "execute_result"
    }
   ],
   "source": [
    "DF2"
   ]
  },
  {
   "cell_type": "markdown",
   "metadata": {},
   "source": [
    "While looking at samples that also have the age label, it can be seen that the ratio is similiar with a loss of around 500 samples. It is possible to predict the age of these 500 samples using either an average, median or a simple machine learning regressor."
   ]
  },
  {
   "cell_type": "code",
   "execution_count": 32,
   "metadata": {},
   "outputs": [
    {
     "name": "stdout",
     "output_type": "stream",
     "text": [
      "Samples with probability under 0.8 and age labels:  4927\n",
      "Samples with probability above 0.8 and age labels:  10291\n"
     ]
    },
    {
     "data": {
      "image/png": "[encoded data removed]",
      "text/plain": [
       "<Figure size 640x480 with 1 Axes>"
      ]
     },
     "metadata": {},
     "output_type": "display_data"
    }
   ],
   "source": [
    "saveDir = \"cough_detected_dist_with_age.png\"\n",
    "Fig, ax = plt.subplots()\n",
    "DF2 = DF[DF.notna()[\"age\"]][\"cough_detected\"].to_frame(name=\"Probabilities\")\n",
    "#DF[DF.notna()[\"age\"]][\"cough_detected\"].plot.hist(bins=10, ax=ax)\n",
    "DF2.plot.hist(bins=10, ax=ax)\n",
    "ax.set_title(\"Cough_detected value distribution with age labels\")\n",
    "ax.tick_params(axis='x', labelrotation=0)\n",
    "ax.set_xlabel(\"Probablity of cough detection\")\n",
    "ax.set_ylabel(\"#Samples\")\n",
    "Fig.savefig(saveDir, dpi=200, bbox_inches=\"tight\")\n",
    "print(\"Samples with probability under 0.8 and age labels: \", (DF[DF.notna()[\"age\"]][\"cough_detected\"] < 0.8).sum())\n",
    "print(\"Samples with probability above 0.8 and age labels: \", (DF[DF.notna()[\"age\"]][\"cough_detected\"] >= 0.8).sum())\n",
    "if useWandb:\n",
    "    wandb.run.log({\"cough_detected_dist_with_age\": wandb.Image(saveDir)})\n",
    "    table = wandb.Table(dataframe=DF2)\n",
    "    #wandb.log({\"cough_detected_dist_with_age_table\": table})\n",
    "    wandb.log({\"cough_detected_dist_with_age\" : wandb.plot.histogram(table, \"Probabilities\",\n",
    "                            title=\"Cough_detected value distribution with age labels\")})"
   ]
  },
  {
   "cell_type": "markdown",
   "metadata": {},
   "source": [
    "The importance of these 500 samples can be seen by the status classes they belong to. If they are mostly healthy, then removing them would address the class imbalance problem:"
   ]
  },
  {
   "cell_type": "code",
   "execution_count": 33,
   "metadata": {},
   "outputs": [
    {
     "name": "stdout",
     "output_type": "stream",
     "text": [
      "Class distribution of samples with cough_detection above 0.8:\n",
      "status\n",
      "healthy        8298\n",
      "symptomatic    1820\n",
      "COVID-19        699\n",
      "Name: count, dtype: int64\n",
      "Class distributions of lost samples by removing samples without age label:\n",
      "status\n",
      "healthy        395\n",
      "COVID-19        91\n",
      "symptomatic     42\n",
      "Name: count, dtype: int64\n"
     ]
    }
   ],
   "source": [
    "print(\"Class distribution of samples with cough_detection above 0.8:\")\n",
    "print(DF[DF[\"status\"].notna() & (DF[\"cough_detected\"] > 0.8)][\"status\"].value_counts())\n",
    "if useWandb:\n",
    "    wandb.run.log({\"Status_class_dist_over_0.8\": dict(DF[DF[\"status\"].notna() & (DF[\"cough_detected\"] > 0.8)][\"status\"].value_counts())})\n",
    "print(\"Class distributions of lost samples by removing samples without age label:\")\n",
    "print(DF[DF[\"age\"].isna() & DF[\"status\"].notna() & (DF[\"cough_detected\"] > 0.8)][\"status\"].value_counts())\n",
    "if useWandb:\n",
    "    wandb.run.log({\"Status_class_dist_over_0.8_with_Age\": dict(DF[DF[\"age\"].isna() & DF[\"status\"].notna() & (DF[\"cough_detected\"] > 0.8)][\"status\"].value_counts())})"
   ]
  },
  {
   "cell_type": "markdown",
   "metadata": {},
   "source": [
    "From this it can be seen that a largeer percentage amount of COVID-19 samples would be lost compared to the other classes. Therefore, removing the samples without age labels is not an option."
   ]
  },
  {
   "cell_type": "markdown",
   "metadata": {},
   "source": [
    "## Sample selection decision\n",
    "From this analysis the following decision is made:\n",
    "- Only samples with cough_detected over 0.8 will be used\n",
    "- The 4306 samples without status labels will be used to train a self-supervised learning model\n",
    "- The 10819 samples with status labels will be used to train the ViT, where samples without age labels will be filled in using either mean, median or regression.\n",
    "- The transformer will use pre-processed audio and status as class-embedding. The model will try and predict the three different classes (Healthy, Symptomatic and COVID-19). Class imbalance will be addressed by weighted classification.\n",
    "- If time allows the age, gender, respiratory_condition and fever_muscle_pain labels will also be used. The idea is to concatenate them to the embeddings coming out of the transformer before being passed to the classifier head."
   ]
  },
  {
   "cell_type": "code",
   "execution_count": 34,
   "metadata": {},
   "outputs": [
    {
     "name": "stderr",
     "output_type": "stream",
     "text": [
      "wandb: WARNING Source type is set to 'repo' but some required information is missing from the environment. A job will not be created from this run. See https://docs.wandb.ai/guides/launch/create-job\n"
     ]
    },
    {
     "data": {
      "text/html": [
       " View run <strong style=\"color:#cdcd00\">DatasetExploration5</strong> at: <a href='https://wandb.ai/ce8-840/test_2/runs/35zhd9ap' target=\"_blank\">https://wandb.ai/ce8-840/test_2/runs/35zhd9ap</a><br/>Synced 5 W&B file(s), 13 media file(s), 5 artifact file(s) and 0 other file(s)"
      ],
      "text/plain": [
       "<IPython.core.display.HTML object>"
      ]
     },
     "metadata": {},
     "output_type": "display_data"
    },
    {
     "data": {
      "text/html": [
       "Find logs at: <code>./wandb/run-20240313_155620-35zhd9ap/logs</code>"
      ],
      "text/plain": [
       "<IPython.core.display.HTML object>"
      ]
     },
     "metadata": {},
     "output_type": "display_data"
    }
   ],
   "source": [
    "wandb.finish()"
   ]
  }
 ],
 "metadata": {
  "kernelspec": {
   "display_name": "venv",
   "language": "python",
   "name": "python3"
  },
  "language_info": {
   "codemirror_mode": {
    "name": "ipython",
    "version": 3
   },
   "file_extension": ".py",
   "mimetype": "text/x-python",
   "name": "python",
   "nbconvert_exporter": "python",
   "pygments_lexer": "ipython3",
   "version": "3.11.8"
  }
 },
 "nbformat": 4,
 "nbformat_minor": 2
}
