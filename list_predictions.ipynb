{
 "cells": [
  {
   "cell_type": "code",
   "execution_count": 2,
   "metadata": {},
   "outputs": [
    {
     "name": "stderr",
     "output_type": "stream",
     "text": [
      "c:\\Users\\vismi\\AppData\\Local\\Programs\\Python\\Python310\\envs\\ViT\\lib\\site-packages\\tqdm\\auto.py:21: TqdmWarning: IProgress not found. Please update jupyter and ipywidgets. See https://ipywidgets.readthedocs.io/en/stable/user_install.html\n",
      "  from .autonotebook import tqdm as notebook_tqdm\n"
     ]
    }
   ],
   "source": [
    "from src.data.dataset import SpectrogramDataset\n",
    "from utils.config_parser import parse_config\n",
    "import torch\n",
    "from src.models.KWT import KWT"
   ]
  },
  {
   "cell_type": "code",
   "execution_count": 3,
   "metadata": {},
   "outputs": [
    {
     "name": "stderr",
     "output_type": "stream",
     "text": [
      "100%|██████████| 132070/132070 [00:01<00:00, 74891.31it/s]\n"
     ]
    },
    {
     "name": "stdout",
     "output_type": "stream",
     "text": [
      "torch.Size([132070, 3])\n"
     ]
    }
   ],
   "source": [
    "config = parse_config('configs\\ssformer.cfg')\n",
    "manifest_path = r\"C:\\Users\\vismi\\Documents\\University\\datasets\\covid19_cough\\manifests\\train_chunk.csv\" # Change this to your local path\n",
    "labels_map = r\"C:\\Users\\vismi\\Documents\\University\\datasets\\covid19_cough\\manifests\\lbl_map.json\" # Change this to your local path\n",
    "ckpt = r\"C:\\Users\\vismi\\Downloads\\augmented_supervised_best.pth\"\n",
    "# Make the dataset and dataloader\n",
    "dataset = SpectrogramDataset(manifest_path, labels_map, config['audio_config'])\n",
    "checkpoint = torch.load(ckpt, map_location='cpu')\n",
    "model = KWT(**config['hparams']['KWT']) #loading model\n",
    "model.load_state_dict(checkpoint['model_state_dict']) # loading state_dict\n",
    "model.eval();"
   ]
  },
  {
   "cell_type": "code",
   "execution_count": 16,
   "metadata": {},
   "outputs": [
    {
     "name": "stdout",
     "output_type": "stream",
     "text": [
      "C:\\Users\\vismi\\Documents\\University\\datasets\\covid19_cough\\train\\d6aeff79-c138-4348-907b-1939c40f7d93_0018.wav predicted:['symptomatic'] target:['healthy']\n",
      "C:\\Users\\vismi\\Documents\\University\\datasets\\covid19_cough\\train\\143cc801-ad6d-4a0d-b1c6-c0e584e59a38_0003.wav predicted:['symptomatic'] target:['healthy']\n",
      "C:\\Users\\vismi\\Documents\\University\\datasets\\covid19_cough\\train\\ace6e101-e3bc-4af5-a097-c3cb10159d39_0001.wav predicted:['COVID-19'] target:['healthy']\n",
      "C:\\Users\\vismi\\Documents\\University\\datasets\\covid19_cough\\train\\09917f09-a421-4a38-9b00-2c91a1c0fa7d_0019.wav predicted:['symptomatic'] target:['healthy']\n",
      "C:\\Users\\vismi\\Documents\\University\\datasets\\covid19_cough\\train\\826697aa-c314-45d2-9a09-b726571ca407_0017.wav predicted:['COVID-19'] target:['COVID-19']\n",
      "C:\\Users\\vismi\\Documents\\University\\datasets\\covid19_cough\\train\\448f59f5-7ed7-47ac-bd2f-7eaff5aebfce_0001.wav predicted:['COVID-19'] target:['healthy']\n",
      "C:\\Users\\vismi\\Documents\\University\\datasets\\covid19_cough\\train\\ba1ce016-b24d-434a-99b6-b93117d93083_0006.wav predicted:['COVID-19'] target:['healthy']\n",
      "C:\\Users\\vismi\\Documents\\University\\datasets\\covid19_cough\\train\\783fca32-58a9-4b49-a766-4ebe6cacf647_0002.wav predicted:['COVID-19'] target:['healthy']\n",
      "C:\\Users\\vismi\\Documents\\University\\datasets\\covid19_cough\\train\\df5837b0-d4f3-4a72-a507-b039eac7bb27_0003.wav predicted:['COVID-19'] target:['healthy']\n",
      "C:\\Users\\vismi\\Documents\\University\\datasets\\covid19_cough\\train\\2fb59cd3-5fc9-4d68-b54a-cebca0fe0e45_0010.wav predicted:['symptomatic'] target:['healthy']\n",
      "C:\\Users\\vismi\\Documents\\University\\datasets\\covid19_cough\\train\\7a51b50a-6894-4eda-bc4c-237731263edb_0002.wav predicted:['symptomatic'] target:['healthy']\n",
      "C:\\Users\\vismi\\Documents\\University\\datasets\\covid19_cough\\train\\7d192f5e-4f18-4da7-9ab6-d2a0b11f7d02_0002.wav predicted:['symptomatic'] target:['healthy']\n",
      "C:\\Users\\vismi\\Documents\\University\\datasets\\covid19_cough\\train\\d5908fa3-9410-4f60-ba27-a57cace776ae_0011.wav predicted:['COVID-19'] target:['COVID-19']\n",
      "C:\\Users\\vismi\\Documents\\University\\datasets\\covid19_cough\\train\\b57685f3-fa22-4c69-970c-9202721d4854_0016.wav predicted:['COVID-19'] target:['symptomatic']\n",
      "C:\\Users\\vismi\\Documents\\University\\datasets\\covid19_cough\\train\\5a3c254e-1eb7-47f3-a014-77c98decf526_0003.wav predicted:['symptomatic'] target:['healthy']\n",
      "C:\\Users\\vismi\\Documents\\University\\datasets\\covid19_cough\\train\\b392ae80-f91a-4a78-bad3-2e8a8c8130d2_0006.wav predicted:['COVID-19'] target:['COVID-19']\n",
      "C:\\Users\\vismi\\Documents\\University\\datasets\\covid19_cough\\train\\d86ce1b5-0fa0-498a-9a09-3ee45158b99e_0004.wav predicted:['symptomatic'] target:['healthy']\n",
      "C:\\Users\\vismi\\Documents\\University\\datasets\\covid19_cough\\train\\e0299530-0967-4d58-ae98-ce5d5930a06c_0011.wav predicted:['COVID-19'] target:['healthy']\n",
      "C:\\Users\\vismi\\Documents\\University\\datasets\\covid19_cough\\train\\a897d9e6-a8d7-4529-ba30-1d8b561069b7_0013.wav predicted:['symptomatic'] target:['healthy']\n",
      "C:\\Users\\vismi\\Documents\\University\\datasets\\covid19_cough\\train\\b4acf2a8-1a5d-4fcc-9f7f-26b510041553_0000.wav predicted:['healthy'] target:['symptomatic']\n",
      "C:\\Users\\vismi\\Documents\\University\\datasets\\covid19_cough\\train\\80b89e0e-8ae8-4c2a-9f7d-29f85e539ca3_0004.wav predicted:['COVID-19'] target:['symptomatic']\n",
      "C:\\Users\\vismi\\Documents\\University\\datasets\\covid19_cough\\train\\93d36f3e-2008-44cc-af6f-adb012cef434_0002.wav predicted:['healthy'] target:['healthy']\n",
      "C:\\Users\\vismi\\Documents\\University\\datasets\\covid19_cough\\train\\5aa4dae0-fe23-4eb2-9d62-e6016a1c9f8a_0004.wav predicted:['COVID-19'] target:['COVID-19']\n",
      "C:\\Users\\vismi\\Documents\\University\\datasets\\covid19_cough\\train\\d6ee9da5-ff1d-4677-9ab2-da397e3267c4_0001.wav predicted:['healthy'] target:['symptomatic']\n",
      "C:\\Users\\vismi\\Documents\\University\\datasets\\covid19_cough\\train\\f06d1efb-586e-4844-9e19-11b3e04402e9_0004.wav predicted:['COVID-19'] target:['healthy']\n",
      "C:\\Users\\vismi\\Documents\\University\\datasets\\covid19_cough\\train\\d85118e0-5f00-4ca3-b56b-94a7b7cd01ee_0012.wav predicted:['COVID-19'] target:['symptomatic']\n",
      "C:\\Users\\vismi\\Documents\\University\\datasets\\covid19_cough\\train\\e99e6e48-c166-4c63-bab3-7b2770129009_0007.wav predicted:['COVID-19'] target:['healthy']\n",
      "C:\\Users\\vismi\\Documents\\University\\datasets\\covid19_cough\\train\\f6444688-24d0-470f-8b06-13bb81536cb6_0001.wav predicted:['symptomatic'] target:['healthy']\n",
      "C:\\Users\\vismi\\Documents\\University\\datasets\\covid19_cough\\train\\e2b217c3-6a14-46a2-b520-14eaff6134f3_0014.wav predicted:['healthy'] target:['healthy']\n",
      "C:\\Users\\vismi\\Documents\\University\\datasets\\covid19_cough\\train\\808e0f1e-b6de-410a-be0a-956ce7420ecc_0002.wav predicted:['healthy'] target:['healthy']\n",
      "C:\\Users\\vismi\\Documents\\University\\datasets\\covid19_cough\\train\\14d9315c-b0a7-4cc7-a869-c05ef38ddf7c_0018.wav predicted:['healthy'] target:['healthy']\n",
      "C:\\Users\\vismi\\Documents\\University\\datasets\\covid19_cough\\train\\d180a2c7-add6-4aad-820d-7fe93ac4e102_0014.wav predicted:['healthy'] target:['healthy']\n",
      "C:\\Users\\vismi\\Documents\\University\\datasets\\covid19_cough\\train\\189d21ea-4eef-4da8-a3f4-d16db18edc25_0003.wav predicted:['symptomatic'] target:['symptomatic']\n",
      "C:\\Users\\vismi\\Documents\\University\\datasets\\covid19_cough\\train\\82d2c246-d57b-420b-9365-33e6940b502d_0008.wav predicted:['symptomatic'] target:['healthy']\n",
      "C:\\Users\\vismi\\Documents\\University\\datasets\\covid19_cough\\train\\f38e9992-31e4-4801-917b-7cc04f977061_0013.wav predicted:['symptomatic'] target:['healthy']\n",
      "C:\\Users\\vismi\\Documents\\University\\datasets\\covid19_cough\\train\\d244c4fb-c0bc-47e4-8a2e-acadbe0b8f00_0005.wav predicted:['healthy'] target:['healthy']\n",
      "C:\\Users\\vismi\\Documents\\University\\datasets\\covid19_cough\\train\\d1cd235f-f6ee-44bf-86c7-81be8faca9df_0000.wav predicted:['healthy'] target:['healthy']\n",
      "C:\\Users\\vismi\\Documents\\University\\datasets\\covid19_cough\\train\\945c8782-caf0-4e42-8fd9-35265e3ed231_0019.wav predicted:['healthy'] target:['healthy']\n",
      "C:\\Users\\vismi\\Documents\\University\\datasets\\covid19_cough\\train\\713ec007-ed1e-4d2a-a195-f549f76a9597_0001.wav predicted:['symptomatic'] target:['healthy']\n",
      "C:\\Users\\vismi\\Documents\\University\\datasets\\covid19_cough\\train\\aa4e881e-3678-4a6b-a2d8-86814caf9c0d_0001.wav predicted:['COVID-19'] target:['healthy']\n",
      "C:\\Users\\vismi\\Documents\\University\\datasets\\covid19_cough\\train\\59009566-cb9d-48ed-b90a-0cac20292a38_0008.wav predicted:['symptomatic'] target:['healthy']\n",
      "C:\\Users\\vismi\\Documents\\University\\datasets\\covid19_cough\\train\\34747e4f-a116-452d-b611-eefecc0c585e_0012.wav predicted:['COVID-19'] target:['symptomatic']\n",
      "C:\\Users\\vismi\\Documents\\University\\datasets\\covid19_cough\\train\\f09e5e96-63b6-473f-b54d-b6b2ba92e40e_0011.wav predicted:['healthy'] target:['healthy']\n",
      "C:\\Users\\vismi\\Documents\\University\\datasets\\covid19_cough\\train\\90341fc7-8338-4d79-9ea3-00c03d34ef1a_0002.wav predicted:['symptomatic'] target:['healthy']\n",
      "C:\\Users\\vismi\\Documents\\University\\datasets\\covid19_cough\\train\\3ca45f72-bc2b-41b0-b163-965abc8e1cfd_0000.wav predicted:['healthy'] target:['healthy']\n",
      "C:\\Users\\vismi\\Documents\\University\\datasets\\covid19_cough\\train\\4586a165-500b-4f76-8855-4faeb7cbb6e4_0006.wav predicted:['COVID-19'] target:['healthy']\n",
      "C:\\Users\\vismi\\Documents\\University\\datasets\\covid19_cough\\train\\34b5fbcb-d30f-4db6-9a21-1cd8cf3fbba1_0014.wav predicted:['healthy'] target:['healthy']\n",
      "C:\\Users\\vismi\\Documents\\University\\datasets\\covid19_cough\\train\\37347587-048a-4a1c-a100-7cf820711428_0002.wav predicted:['COVID-19'] target:['COVID-19']\n",
      "C:\\Users\\vismi\\Documents\\University\\datasets\\covid19_cough\\train\\68be5313-193c-42ca-acdc-f6f93c9c1126_0001.wav predicted:['healthy'] target:['COVID-19']\n",
      "C:\\Users\\vismi\\Documents\\University\\datasets\\covid19_cough\\train\\c4961eda-91f5-4fbc-bd90-92f56f7f4deb_0009.wav predicted:['symptomatic'] target:['symptomatic']\n",
      "C:\\Users\\vismi\\Documents\\University\\datasets\\covid19_cough\\train\\d57e15cf-e837-4e9e-a777-c3ee24fcb72b_0004.wav predicted:['COVID-19'] target:['COVID-19']\n",
      "C:\\Users\\vismi\\Documents\\University\\datasets\\covid19_cough\\train\\f0873fd7-0278-4208-a9b8-41911b70802c_0001.wav predicted:['symptomatic'] target:['symptomatic']\n",
      "C:\\Users\\vismi\\Documents\\University\\datasets\\covid19_cough\\train\\e17922ac-8224-4774-aebb-ea3faff0a479_0005.wav predicted:['COVID-19'] target:['healthy']\n",
      "C:\\Users\\vismi\\Documents\\University\\datasets\\covid19_cough\\train\\5f6cf762-842b-41bd-aa51-6ad8e61ae0c3_0016.wav predicted:['symptomatic'] target:['symptomatic']\n",
      "C:\\Users\\vismi\\Documents\\University\\datasets\\covid19_cough\\train\\13f937f8-3a3f-43f6-b7dd-51899c1e31a8_0011.wav predicted:['symptomatic'] target:['healthy']\n",
      "C:\\Users\\vismi\\Documents\\University\\datasets\\covid19_cough\\train\\4d5fb5e7-77ab-4b75-9545-bdee699efebd_0000.wav predicted:['healthy'] target:['healthy']\n",
      "C:\\Users\\vismi\\Documents\\University\\datasets\\covid19_cough\\train\\4422d3a8-a4a8-4f0b-9030-9c100854f554_0007.wav predicted:['COVID-19'] target:['healthy']\n",
      "C:\\Users\\vismi\\Documents\\University\\datasets\\covid19_cough\\train\\8ec67d70-2a82-45ea-a646-ab8a5bc4bf4f_0003.wav predicted:['symptomatic'] target:['symptomatic']\n",
      "C:\\Users\\vismi\\Documents\\University\\datasets\\covid19_cough\\train\\da2b2b06-168c-4ae9-9718-7e2db431a113_0015.wav predicted:['symptomatic'] target:['symptomatic']\n",
      "C:\\Users\\vismi\\Documents\\University\\datasets\\covid19_cough\\train\\cde44e03-d6cf-42e2-9736-2c23be469d4f_0009.wav predicted:['COVID-19'] target:['healthy']\n",
      "C:\\Users\\vismi\\Documents\\University\\datasets\\covid19_cough\\train\\8f71aa36-4f94-4726-9def-b98b63f03a27_0000.wav predicted:['healthy'] target:['symptomatic']\n",
      "C:\\Users\\vismi\\Documents\\University\\datasets\\covid19_cough\\train\\b445159c-9097-4082-b418-f70b52eb678f_0017.wav predicted:['symptomatic'] target:['healthy']\n",
      "C:\\Users\\vismi\\Documents\\University\\datasets\\covid19_cough\\train\\13db4f04-6a75-4ae6-a8ed-45efb08cd0a3_0007.wav predicted:['healthy'] target:['symptomatic']\n",
      "C:\\Users\\vismi\\Documents\\University\\datasets\\covid19_cough\\train\\592a264a-26a3-40c0-855d-6ddc52e694e7_0000.wav predicted:['healthy'] target:['healthy']\n",
      "C:\\Users\\vismi\\Documents\\University\\datasets\\covid19_cough\\train\\80ef7fb3-fa42-4539-8109-bac59586b80d_0003.wav predicted:['COVID-19'] target:['symptomatic']\n",
      "C:\\Users\\vismi\\Documents\\University\\datasets\\covid19_cough\\train\\51125a73-c566-45f9-b45d-e2b61153a644_0000.wav predicted:['COVID-19'] target:['healthy']\n",
      "C:\\Users\\vismi\\Documents\\University\\datasets\\covid19_cough\\train\\edbc9515-7a84-478a-8f64-059ee904c4c1_0008.wav predicted:['healthy'] target:['healthy']\n",
      "C:\\Users\\vismi\\Documents\\University\\datasets\\covid19_cough\\train\\2fb4f3a5-bc1d-4ad0-8e58-dba4e3b40e2f_0003.wav predicted:['healthy'] target:['healthy']\n",
      "C:\\Users\\vismi\\Documents\\University\\datasets\\covid19_cough\\train\\117863fc-a2bf-4d83-811e-a3fc7c90fff3_0009.wav predicted:['COVID-19'] target:['healthy']\n",
      "C:\\Users\\vismi\\Documents\\University\\datasets\\covid19_cough\\train\\3c6cfda1-3fe9-403d-b5d1-7797420debe2_0007.wav predicted:['COVID-19'] target:['COVID-19']\n",
      "C:\\Users\\vismi\\Documents\\University\\datasets\\covid19_cough\\train\\c4844ff3-1947-4d89-88aa-65ed4892cf0c_0001.wav predicted:['symptomatic'] target:['healthy']\n",
      "C:\\Users\\vismi\\Documents\\University\\datasets\\covid19_cough\\train\\a6738ce5-b5b3-4f1b-87b0-535415341369_0018.wav predicted:['symptomatic'] target:['healthy']\n",
      "C:\\Users\\vismi\\Documents\\University\\datasets\\covid19_cough\\train\\85607561-0a13-45e2-a4fc-9f42a2851d55_0000.wav predicted:['COVID-19'] target:['healthy']\n",
      "C:\\Users\\vismi\\Documents\\University\\datasets\\covid19_cough\\train\\73fc3670-c5a6-4e86-9176-9732ba9b316e_0008.wav predicted:['COVID-19'] target:['healthy']\n",
      "C:\\Users\\vismi\\Documents\\University\\datasets\\covid19_cough\\train\\ef4824e2-03c5-4c72-bc4a-0f45b71eb155_0010.wav predicted:['healthy'] target:['healthy']\n",
      "C:\\Users\\vismi\\Documents\\University\\datasets\\covid19_cough\\train\\b3f10b47-a389-4174-b39a-496873e130e0_0000.wav predicted:['COVID-19'] target:['healthy']\n",
      "C:\\Users\\vismi\\Documents\\University\\datasets\\covid19_cough\\train\\5cdfa760-0ec8-4edc-b798-f0ffd0f38565_0010.wav predicted:['symptomatic'] target:['healthy']\n",
      "C:\\Users\\vismi\\Documents\\University\\datasets\\covid19_cough\\train\\3a283026-4937-4cc3-ac9e-9d9382a56d10_0018.wav predicted:['COVID-19'] target:['healthy']\n",
      "C:\\Users\\vismi\\Documents\\University\\datasets\\covid19_cough\\train\\bd120088-ca50-42b1-aa65-19d103c0ea7e_0012.wav predicted:['COVID-19'] target:['healthy']\n",
      "C:\\Users\\vismi\\Documents\\University\\datasets\\covid19_cough\\train\\ee78fe30-0001-4101-8a58-7eba1dfc8087_0005.wav predicted:['COVID-19'] target:['healthy']\n",
      "C:\\Users\\vismi\\Documents\\University\\datasets\\covid19_cough\\train\\8d1b52e5-5079-4ea3-834d-5be32eb74a83_0003.wav predicted:['healthy'] target:['healthy']\n",
      "C:\\Users\\vismi\\Documents\\University\\datasets\\covid19_cough\\train\\6aaafece-c649-40ed-802c-5669b8410153_0009.wav predicted:['symptomatic'] target:['healthy']\n",
      "C:\\Users\\vismi\\Documents\\University\\datasets\\covid19_cough\\train\\0becdda1-ace9-4164-b079-6f67898e99ff_0009.wav predicted:['symptomatic'] target:['healthy']\n",
      "C:\\Users\\vismi\\Documents\\University\\datasets\\covid19_cough\\train\\c2add33c-adf5-4859-8b8f-403dbac0e514_0019.wav predicted:['healthy'] target:['healthy']\n",
      "C:\\Users\\vismi\\Documents\\University\\datasets\\covid19_cough\\train\\c9cc9494-58b5-447b-aad1-767b9095c988_0016.wav predicted:['symptomatic'] target:['healthy']\n",
      "C:\\Users\\vismi\\Documents\\University\\datasets\\covid19_cough\\train\\9caf2c7a-bc24-48c1-abbf-6a371dfc8d18_0015.wav predicted:['healthy'] target:['healthy']\n",
      "C:\\Users\\vismi\\Documents\\University\\datasets\\covid19_cough\\train\\e76cd39e-dc9e-428e-8a33-3da4c030f1d7_0003.wav predicted:['healthy'] target:['healthy']\n",
      "C:\\Users\\vismi\\Documents\\University\\datasets\\covid19_cough\\train\\1090edf5-7840-4453-8a96-6e808b036716_0002.wav predicted:['COVID-19'] target:['healthy']\n",
      "C:\\Users\\vismi\\Documents\\University\\datasets\\covid19_cough\\train\\c49d491d-2800-4018-a68d-d60d4f16974f_0007.wav predicted:['COVID-19'] target:['healthy']\n",
      "C:\\Users\\vismi\\Documents\\University\\datasets\\covid19_cough\\train\\abb10834-a637-42bb-8967-9b4a17a7c78f_0012.wav predicted:['healthy'] target:['healthy']\n",
      "C:\\Users\\vismi\\Documents\\University\\datasets\\covid19_cough\\train\\40161478-dbde-44b9-83bc-1735d915fbf4_0018.wav predicted:['healthy'] target:['healthy']\n",
      "C:\\Users\\vismi\\Documents\\University\\datasets\\covid19_cough\\train\\caf4e7ea-513a-4f81-941a-56e28c49fb6d_0017.wav predicted:['symptomatic'] target:['symptomatic']\n",
      "C:\\Users\\vismi\\Documents\\University\\datasets\\covid19_cough\\train\\833efa8a-dcc8-4169-b1f2-97346cab50ed_0001.wav predicted:['healthy'] target:['healthy']\n",
      "C:\\Users\\vismi\\Documents\\University\\datasets\\covid19_cough\\train\\7717442d-d687-4821-a55f-a89b524ff17b_0016.wav predicted:['symptomatic'] target:['symptomatic']\n",
      "C:\\Users\\vismi\\Documents\\University\\datasets\\covid19_cough\\train\\97bfdd85-28c3-453b-83c8-3770e19e0c6d_0013.wav predicted:['symptomatic'] target:['healthy']\n",
      "C:\\Users\\vismi\\Documents\\University\\datasets\\covid19_cough\\train\\9d0c4f74-0fd5-49e5-9010-ac5baccb21fd_0008.wav predicted:['symptomatic'] target:['healthy']\n",
      "C:\\Users\\vismi\\Documents\\University\\datasets\\covid19_cough\\train\\3b33d630-338b-4e18-b3e4-549ef4c71486_0004.wav predicted:['symptomatic'] target:['healthy']\n",
      "C:\\Users\\vismi\\Documents\\University\\datasets\\covid19_cough\\train\\bc493553-d1c2-491f-9f6b-8c9f9529a55b_0016.wav predicted:['symptomatic'] target:['healthy']\n",
      "C:\\Users\\vismi\\Documents\\University\\datasets\\covid19_cough\\train\\3a481fdd-0c3c-49c1-bb15-f0f0ef7046c8_0001.wav predicted:['symptomatic'] target:['healthy']\n",
      "C:\\Users\\vismi\\Documents\\University\\datasets\\covid19_cough\\train\\41124c3d-1d07-46dc-afeb-10dbfcac7722_0001.wav predicted:['healthy'] target:['healthy']\n",
      "C:\\Users\\vismi\\Documents\\University\\datasets\\covid19_cough\\train\\7cc843d7-eeac-4276-9d9b-3130d03596e1_0007.wav predicted:['symptomatic'] target:['healthy']\n"
     ]
    },
    {
     "ename": "KeyboardInterrupt",
     "evalue": "",
     "output_type": "error",
     "traceback": [
      "\u001b[1;31m---------------------------------------------------------------------------\u001b[0m",
      "\u001b[1;31mKeyboardInterrupt\u001b[0m                         Traceback (most recent call last)",
      "Cell \u001b[1;32mIn[16], line 6\u001b[0m\n\u001b[0;32m      4\u001b[0m spec, target \u001b[38;5;241m=\u001b[39m dataset[i]\n\u001b[0;32m      5\u001b[0m spec \u001b[38;5;241m=\u001b[39m spec\u001b[38;5;241m.\u001b[39munsqueeze(\u001b[38;5;241m0\u001b[39m)\n\u001b[1;32m----> 6\u001b[0m prediction \u001b[38;5;241m=\u001b[39m \u001b[43mmodel\u001b[49m\u001b[43m(\u001b[49m\u001b[43mspec\u001b[49m\u001b[43m)\u001b[49m\u001b[38;5;241;43m.\u001b[39;49m\u001b[43margmax\u001b[49m\u001b[43m(\u001b[49m\u001b[38;5;241;43m1\u001b[39;49m\u001b[43m)\u001b[49m\n\u001b[0;32m      7\u001b[0m target \u001b[38;5;241m=\u001b[39m target\u001b[38;5;241m.\u001b[39margmax()\n\u001b[0;32m      8\u001b[0m \u001b[38;5;28mprint\u001b[39m(fname, \u001b[38;5;124mf\u001b[39m\u001b[38;5;124m'\u001b[39m\u001b[38;5;124mpredicted:\u001b[39m\u001b[38;5;132;01m{\u001b[39;00m[key\u001b[38;5;250m \u001b[39m\u001b[38;5;28;01mfor\u001b[39;00m\u001b[38;5;250m \u001b[39mkey\u001b[38;5;250m \u001b[39m\u001b[38;5;129;01min\u001b[39;00m\u001b[38;5;250m \u001b[39mclasses\u001b[38;5;241m.\u001b[39mkeys()\u001b[38;5;250m \u001b[39m\u001b[38;5;28;01mif\u001b[39;00m\u001b[38;5;250m \u001b[39mprediction\u001b[38;5;241m.\u001b[39mnumpy()\u001b[38;5;250m \u001b[39m\u001b[38;5;241m==\u001b[39m\u001b[38;5;250m \u001b[39mclasses[key]]\u001b[38;5;132;01m}\u001b[39;00m\u001b[38;5;124m'\u001b[39m, \u001b[38;5;124mf\u001b[39m\u001b[38;5;124m'\u001b[39m\u001b[38;5;124mtarget:\u001b[39m\u001b[38;5;132;01m{\u001b[39;00m[key\u001b[38;5;250m \u001b[39m\u001b[38;5;28;01mfor\u001b[39;00m\u001b[38;5;250m \u001b[39mkey\u001b[38;5;250m \u001b[39m\u001b[38;5;129;01min\u001b[39;00m\u001b[38;5;250m \u001b[39mclasses\u001b[38;5;241m.\u001b[39mkeys()\u001b[38;5;250m \u001b[39m\u001b[38;5;28;01mif\u001b[39;00m\u001b[38;5;250m \u001b[39mtarget\u001b[38;5;241m.\u001b[39mnumpy()\u001b[38;5;250m \u001b[39m\u001b[38;5;241m==\u001b[39m\u001b[38;5;250m \u001b[39mclasses[key]]\u001b[38;5;132;01m}\u001b[39;00m\u001b[38;5;124m'\u001b[39m)\n",
      "\u001b[1;31mKeyboardInterrupt\u001b[0m: "
     ]
    }
   ],
   "source": [
    "classes = {\"COVID-19\": 0, \"healthy\": 1, \"symptomatic\": 2}\n",
    "files = dataset.files\n",
    "for i, fname in enumerate(files):\n",
    "    spec, target = dataset[i]\n",
    "    spec = spec.unsqueeze(0)\n",
    "    prediction = model(spec).argmax(1)\n",
    "    target = target.argmax()\n",
    "    print(fname, f'predicted:{[key for key in classes.keys() if prediction.numpy() == classes[key]]}', f'target:{[key for key in classes.keys() if target.numpy() == classes[key]]}')\n"
   ]
  },
  {
   "cell_type": "code",
   "execution_count": null,
   "metadata": {},
   "outputs": [],
   "source": []
  }
 ],
 "metadata": {
  "kernelspec": {
   "display_name": "ViT",
   "language": "python",
   "name": "python3"
  },
  "language_info": {
   "codemirror_mode": {
    "name": "ipython",
    "version": 3
   },
   "file_extension": ".py",
   "mimetype": "text/x-python",
   "name": "python",
   "nbconvert_exporter": "python",
   "pygments_lexer": "ipython3",
   "version": "3.10.11"
  }
 },
 "nbformat": 4,
 "nbformat_minor": 2
}
